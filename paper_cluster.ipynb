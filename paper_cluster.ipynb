{
 "cells": [
  {
   "cell_type": "code",
   "execution_count": 1,
   "metadata": {},
   "outputs": [],
   "source": [
    "import warnings\n",
    "import numpy as np\n",
    "import pandas as pd\n",
    "from sklearn import preprocessing\n",
    "import seaborn as sns\n",
    "import matplotlib.pyplot as plt\n",
    "import csv\n",
    "warnings.filterwarnings(\"ignore\")"
   ]
  },
  {
   "cell_type": "code",
   "execution_count": 12,
   "metadata": {},
   "outputs": [],
   "source": [
    "train_df = pd.read_csv('task2_trainset.csv', encoding = \"utf8\")\n",
    "test_df = pd.read_csv('task2_public_testset.csv', encoding = \"utf8\")"
   ]
  },
  {
   "cell_type": "code",
   "execution_count": 111,
   "metadata": {},
   "outputs": [
    {
     "data": {
      "text/html": [
       "<div>\n",
       "<style scoped>\n",
       "    .dataframe tbody tr th:only-of-type {\n",
       "        vertical-align: middle;\n",
       "    }\n",
       "\n",
       "    .dataframe tbody tr th {\n",
       "        vertical-align: top;\n",
       "    }\n",
       "\n",
       "    .dataframe thead th {\n",
       "        text-align: right;\n",
       "    }\n",
       "</style>\n",
       "<table border=\"1\" class=\"dataframe\">\n",
       "  <thead>\n",
       "    <tr style=\"text-align: right;\">\n",
       "      <th></th>\n",
       "      <th>Id</th>\n",
       "      <th>Title</th>\n",
       "      <th>Abstract</th>\n",
       "      <th>Authors</th>\n",
       "      <th>Categories</th>\n",
       "      <th>Created Date</th>\n",
       "      <th>Task 2</th>\n",
       "      <th>THEORETICAL</th>\n",
       "      <th>ENGINEERING</th>\n",
       "      <th>EMPIRICAL</th>\n",
       "      <th>OTHERS</th>\n",
       "      <th>Categories_embed_theoretical</th>\n",
       "      <th>Categories_embed_engineering</th>\n",
       "      <th>Categories_embed_empirical</th>\n",
       "      <th>Categories_embed_others</th>\n",
       "    </tr>\n",
       "  </thead>\n",
       "  <tbody>\n",
       "    <tr>\n",
       "      <th>0</th>\n",
       "      <td>D00001</td>\n",
       "      <td>A Brain-Inspired Trust Management Model to Ass...</td>\n",
       "      <td>Rapid popularity of Internet of Things (IoT) a...</td>\n",
       "      <td>Mahmud/Kaiser/Rahman/Rahman/Shabut/Al-Mamun/Hu...</td>\n",
       "      <td>cs.CR/cs.AI/q-bio.NC</td>\n",
       "      <td>2018-01-11</td>\n",
       "      <td>THEORETICAL</td>\n",
       "      <td>1</td>\n",
       "      <td>0</td>\n",
       "      <td>0</td>\n",
       "      <td>0</td>\n",
       "      <td>0.194131</td>\n",
       "      <td>0.550785</td>\n",
       "      <td>0.484338</td>\n",
       "      <td>0.004624</td>\n",
       "    </tr>\n",
       "    <tr>\n",
       "      <th>1</th>\n",
       "      <td>D00002</td>\n",
       "      <td>On Efficient Computation of Shortest Dubins Pa...</td>\n",
       "      <td>In this paper, we address the problem of compu...</td>\n",
       "      <td>Sadeghi/Smith</td>\n",
       "      <td>cs.SY/cs.RO/math.OC</td>\n",
       "      <td>2016-09-21</td>\n",
       "      <td>THEORETICAL</td>\n",
       "      <td>1</td>\n",
       "      <td>0</td>\n",
       "      <td>0</td>\n",
       "      <td>0</td>\n",
       "      <td>0.941462</td>\n",
       "      <td>0.525704</td>\n",
       "      <td>0.020966</td>\n",
       "      <td>0.000023</td>\n",
       "    </tr>\n",
       "    <tr>\n",
       "      <th>2</th>\n",
       "      <td>D00003</td>\n",
       "      <td>Data-driven Upsampling of Point Clouds</td>\n",
       "      <td>High quality upsampling of sparse 3D point clo...</td>\n",
       "      <td>Zhang/Jiang/Yang/Yamakawa/Shimada/Kara</td>\n",
       "      <td>cs.CV</td>\n",
       "      <td>2018-07-07</td>\n",
       "      <td>ENGINEERING</td>\n",
       "      <td>0</td>\n",
       "      <td>1</td>\n",
       "      <td>0</td>\n",
       "      <td>0</td>\n",
       "      <td>0.288054</td>\n",
       "      <td>0.660594</td>\n",
       "      <td>0.315537</td>\n",
       "      <td>0.025039</td>\n",
       "    </tr>\n",
       "    <tr>\n",
       "      <th>3</th>\n",
       "      <td>D00004</td>\n",
       "      <td>Accessibility or Usability of InteractSE? A He...</td>\n",
       "      <td>Internet is the main source of information now...</td>\n",
       "      <td>Aqle/Khowaja/Al-Thani</td>\n",
       "      <td>cs.HC</td>\n",
       "      <td>2018-08-29</td>\n",
       "      <td>EMPIRICAL</td>\n",
       "      <td>0</td>\n",
       "      <td>0</td>\n",
       "      <td>1</td>\n",
       "      <td>0</td>\n",
       "      <td>0.454069</td>\n",
       "      <td>0.519529</td>\n",
       "      <td>0.298405</td>\n",
       "      <td>0.057379</td>\n",
       "    </tr>\n",
       "    <tr>\n",
       "      <th>4</th>\n",
       "      <td>D00005</td>\n",
       "      <td>Spatio-Temporal Facial Expression Recognition ...</td>\n",
       "      <td>Automated Facial Expression Recognition (FER) ...</td>\n",
       "      <td>Hasani/Mahoor</td>\n",
       "      <td>cs.CV</td>\n",
       "      <td>2017-03-20</td>\n",
       "      <td>ENGINEERING</td>\n",
       "      <td>0</td>\n",
       "      <td>1</td>\n",
       "      <td>0</td>\n",
       "      <td>0</td>\n",
       "      <td>0.288054</td>\n",
       "      <td>0.660594</td>\n",
       "      <td>0.315537</td>\n",
       "      <td>0.025039</td>\n",
       "    </tr>\n",
       "  </tbody>\n",
       "</table>\n",
       "</div>"
      ],
      "text/plain": [
       "       Id                                              Title  \\\n",
       "0  D00001  A Brain-Inspired Trust Management Model to Ass...   \n",
       "1  D00002  On Efficient Computation of Shortest Dubins Pa...   \n",
       "2  D00003             Data-driven Upsampling of Point Clouds   \n",
       "3  D00004  Accessibility or Usability of InteractSE? A He...   \n",
       "4  D00005  Spatio-Temporal Facial Expression Recognition ...   \n",
       "\n",
       "                                            Abstract  \\\n",
       "0  Rapid popularity of Internet of Things (IoT) a...   \n",
       "1  In this paper, we address the problem of compu...   \n",
       "2  High quality upsampling of sparse 3D point clo...   \n",
       "3  Internet is the main source of information now...   \n",
       "4  Automated Facial Expression Recognition (FER) ...   \n",
       "\n",
       "                                             Authors            Categories  \\\n",
       "0  Mahmud/Kaiser/Rahman/Rahman/Shabut/Al-Mamun/Hu...  cs.CR/cs.AI/q-bio.NC   \n",
       "1                                      Sadeghi/Smith   cs.SY/cs.RO/math.OC   \n",
       "2             Zhang/Jiang/Yang/Yamakawa/Shimada/Kara                 cs.CV   \n",
       "3                              Aqle/Khowaja/Al-Thani                 cs.HC   \n",
       "4                                      Hasani/Mahoor                 cs.CV   \n",
       "\n",
       "  Created Date       Task 2  THEORETICAL  ENGINEERING  EMPIRICAL  OTHERS  \\\n",
       "0   2018-01-11  THEORETICAL            1            0          0       0   \n",
       "1   2016-09-21  THEORETICAL            1            0          0       0   \n",
       "2   2018-07-07  ENGINEERING            0            1          0       0   \n",
       "3   2018-08-29    EMPIRICAL            0            0          1       0   \n",
       "4   2017-03-20  ENGINEERING            0            1          0       0   \n",
       "\n",
       "   Categories_embed_theoretical  Categories_embed_engineering  \\\n",
       "0                      0.194131                      0.550785   \n",
       "1                      0.941462                      0.525704   \n",
       "2                      0.288054                      0.660594   \n",
       "3                      0.454069                      0.519529   \n",
       "4                      0.288054                      0.660594   \n",
       "\n",
       "   Categories_embed_empirical  Categories_embed_others  \n",
       "0                    0.484338                 0.004624  \n",
       "1                    0.020966                 0.000023  \n",
       "2                    0.315537                 0.025039  \n",
       "3                    0.298405                 0.057379  \n",
       "4                    0.315537                 0.025039  "
      ]
     },
     "execution_count": 111,
     "metadata": {},
     "output_type": "execute_result"
    }
   ],
   "source": [
    "train_df.head()"
   ]
  },
  {
   "cell_type": "code",
   "execution_count": 84,
   "metadata": {},
   "outputs": [
    {
     "data": {
      "text/html": [
       "<div>\n",
       "<style scoped>\n",
       "    .dataframe tbody tr th:only-of-type {\n",
       "        vertical-align: middle;\n",
       "    }\n",
       "\n",
       "    .dataframe tbody tr th {\n",
       "        vertical-align: top;\n",
       "    }\n",
       "\n",
       "    .dataframe thead th {\n",
       "        text-align: right;\n",
       "    }\n",
       "</style>\n",
       "<table border=\"1\" class=\"dataframe\">\n",
       "  <thead>\n",
       "    <tr style=\"text-align: right;\">\n",
       "      <th></th>\n",
       "      <th>Id</th>\n",
       "      <th>Title</th>\n",
       "      <th>Abstract</th>\n",
       "      <th>Authors</th>\n",
       "      <th>Categories</th>\n",
       "      <th>Created Date</th>\n",
       "      <th>Categories_embed_theoretical</th>\n",
       "    </tr>\n",
       "  </thead>\n",
       "  <tbody>\n",
       "    <tr>\n",
       "      <th>0</th>\n",
       "      <td>T00001</td>\n",
       "      <td>Cheating-Resilient Incentive Scheme for Mobile...</td>\n",
       "      <td>Mobile Crowdsensing is a promising paradigm fo...</td>\n",
       "      <td>Zhao/Yang/Yu/Yao/Lin/Li</td>\n",
       "      <td>cs.NI/cs.CR</td>\n",
       "      <td>2017-01-08</td>\n",
       "      <td>0.337862</td>\n",
       "    </tr>\n",
       "    <tr>\n",
       "      <th>1</th>\n",
       "      <td>T00002</td>\n",
       "      <td>10 Inventions on Key Guides and Keyboard Templ...</td>\n",
       "      <td>A keyboard has many function keys and each fun...</td>\n",
       "      <td>Mishra</td>\n",
       "      <td>cs.HC</td>\n",
       "      <td>2013-10-11</td>\n",
       "      <td>0.428744</td>\n",
       "    </tr>\n",
       "    <tr>\n",
       "      <th>2</th>\n",
       "      <td>T00003</td>\n",
       "      <td>Approximating Flexibility in Distributed Energ...</td>\n",
       "      <td>With increasing availability of communication ...</td>\n",
       "      <td>Kundu/Kalsi/Backhaus</td>\n",
       "      <td>cs.SY/math.OC</td>\n",
       "      <td>2018-03-14</td>\n",
       "      <td>0.901140</td>\n",
       "    </tr>\n",
       "    <tr>\n",
       "      <th>3</th>\n",
       "      <td>T00004</td>\n",
       "      <td>A New Perspective on Clustered Planarity as a ...</td>\n",
       "      <td>The clustered planarity problem (c-planarity) ...</td>\n",
       "      <td>Bläsius/Rutter</td>\n",
       "      <td>cs.DS/cs.DM/math.CO</td>\n",
       "      <td>2015-06-18</td>\n",
       "      <td>0.917090</td>\n",
       "    </tr>\n",
       "    <tr>\n",
       "      <th>4</th>\n",
       "      <td>T00005</td>\n",
       "      <td>Multitask Evolution with Cartesian Genetic Pro...</td>\n",
       "      <td>We introduce a genetic programming method for ...</td>\n",
       "      <td>Scott/De Jong</td>\n",
       "      <td>cs.NE</td>\n",
       "      <td>2017-02-07</td>\n",
       "      <td>0.355693</td>\n",
       "    </tr>\n",
       "  </tbody>\n",
       "</table>\n",
       "</div>"
      ],
      "text/plain": [
       "       Id                                              Title  \\\n",
       "0  T00001  Cheating-Resilient Incentive Scheme for Mobile...   \n",
       "1  T00002  10 Inventions on Key Guides and Keyboard Templ...   \n",
       "2  T00003  Approximating Flexibility in Distributed Energ...   \n",
       "3  T00004  A New Perspective on Clustered Planarity as a ...   \n",
       "4  T00005  Multitask Evolution with Cartesian Genetic Pro...   \n",
       "\n",
       "                                            Abstract                  Authors  \\\n",
       "0  Mobile Crowdsensing is a promising paradigm fo...  Zhao/Yang/Yu/Yao/Lin/Li   \n",
       "1  A keyboard has many function keys and each fun...                   Mishra   \n",
       "2  With increasing availability of communication ...     Kundu/Kalsi/Backhaus   \n",
       "3  The clustered planarity problem (c-planarity) ...           Bläsius/Rutter   \n",
       "4  We introduce a genetic programming method for ...            Scott/De Jong   \n",
       "\n",
       "            Categories Created Date  Categories_embed_theoretical  \n",
       "0          cs.NI/cs.CR   2017-01-08                      0.337862  \n",
       "1                cs.HC   2013-10-11                      0.428744  \n",
       "2        cs.SY/math.OC   2018-03-14                      0.901140  \n",
       "3  cs.DS/cs.DM/math.CO   2015-06-18                      0.917090  \n",
       "4                cs.NE   2017-02-07                      0.355693  "
      ]
     },
     "execution_count": 84,
     "metadata": {},
     "output_type": "execute_result"
    }
   ],
   "source": [
    "test_df.head()"
   ]
  },
  {
   "cell_type": "code",
   "execution_count": 8,
   "metadata": {},
   "outputs": [
    {
     "name": "stdout",
     "output_type": "stream",
     "text": [
      "THEORETICAL                          0.280714\n",
      "ENGINEERING                          0.271429\n",
      "EMPIRICAL                            0.144286\n",
      "THEORETICAL ENGINEERING              0.105143\n",
      "ENGINEERING EMPIRICAL                0.087571\n",
      "THEORETICAL EMPIRICAL                0.053571\n",
      "OTHERS                               0.037000\n",
      "THEORETICAL ENGINEERING EMPIRICAL    0.020286\n",
      "Name: Task 2, dtype: float64\n"
     ]
    }
   ],
   "source": [
    "s = train_df[\"Task 2\"].value_counts(normalize=True)\n",
    "print(s)"
   ]
  },
  {
   "cell_type": "code",
   "execution_count": 45,
   "metadata": {},
   "outputs": [],
   "source": [
    "train_df[\"THEORETICAL\"] = train_df[\"Task 2\"].where(train_df[\"Task 2\"].str.contains(\"THEORETICAL\"), 0)\n",
    "train_df[\"ENGINEERING\"] = train_df[\"Task 2\"].where(train_df[\"Task 2\"].str.contains(\"ENGINEERING\"), 0)\n",
    "train_df[\"EMPIRICAL\"] = train_df[\"Task 2\"].where(train_df[\"Task 2\"].str.contains(\"EMPIRICAL\"), 0)\n",
    "train_df[\"OTHERS\"] = train_df[\"Task 2\"].where(train_df[\"Task 2\"].str.contains(\"OTHERS\"), 0)"
   ]
  },
  {
   "cell_type": "code",
   "execution_count": 46,
   "metadata": {},
   "outputs": [],
   "source": [
    "train_df[\"THEORETICAL\"].loc[train_df[\"THEORETICAL\"] != 0] = 1\n",
    "train_df[\"ENGINEERING\"].loc[train_df[\"ENGINEERING\"] != 0] = 1\n",
    "train_df[\"EMPIRICAL\"].loc[train_df[\"EMPIRICAL\"] != 0] = 1\n",
    "train_df[\"OTHERS\"].loc[train_df[\"OTHERS\"] != 0] = 1"
   ]
  },
  {
   "cell_type": "code",
   "execution_count": 89,
   "metadata": {},
   "outputs": [],
   "source": [
    "df = train_df.append(test_df)"
   ]
  },
  {
   "cell_type": "markdown",
   "metadata": {},
   "source": [
    "# embed \"Categories\""
   ]
  },
  {
   "cell_type": "code",
   "execution_count": 67,
   "metadata": {},
   "outputs": [
    {
     "name": "stderr",
     "output_type": "stream",
     "text": [
      "Using TensorFlow backend.\n"
     ]
    }
   ],
   "source": [
    "from keras.preprocessing.text import one_hot\n",
    "from keras.preprocessing.sequence import pad_sequences\n",
    "from keras.models import Sequential\n",
    "from keras.layers import Dense\n",
    "from keras.layers import Flatten\n",
    "from keras.layers.embeddings import Embedding"
   ]
  },
  {
   "cell_type": "code",
   "execution_count": 91,
   "metadata": {},
   "outputs": [],
   "source": [
    "vocab_size = 200\n",
    "encoded_docs = [one_hot(d, vocab_size) for d in df[\"Categories\"]]\n",
    "max_length = 20\n",
    "padded_docs = pad_sequences(encoded_docs, maxlen=max_length, padding='post')\n",
    "train_padded_docs = padded_docs[:7000]\n",
    "test_padded_docs = padded_docs[7000:]"
   ]
  },
  {
   "cell_type": "code",
   "execution_count": 75,
   "metadata": {},
   "outputs": [
    {
     "name": "stdout",
     "output_type": "stream",
     "text": [
      "WARNING:tensorflow:From /Library/Frameworks/Python.framework/Versions/3.7/lib/python3.7/site-packages/tensorflow/python/framework/op_def_library.py:263: colocate_with (from tensorflow.python.framework.ops) is deprecated and will be removed in a future version.\n",
      "Instructions for updating:\n",
      "Colocations handled automatically by placer.\n"
     ]
    }
   ],
   "source": [
    "model = Sequential()\n",
    "model.add(Embedding(vocab_size, 8, input_length=max_length))\n",
    "model.add(Flatten())\n",
    "model.add(Dense(1, activation='sigmoid'))"
   ]
  },
  {
   "cell_type": "markdown",
   "metadata": {},
   "source": [
    "   ## embedded to THEORETICAL"
   ]
  },
  {
   "cell_type": "code",
   "execution_count": 101,
   "metadata": {},
   "outputs": [
    {
     "name": "stdout",
     "output_type": "stream",
     "text": [
      "Accuracy: 72.971429\n"
     ]
    }
   ],
   "source": [
    "model.compile(optimizer='adam', loss='binary_crossentropy', metrics=['accuracy'])\n",
    "model.fit(train_padded_docs, train_df[\"THEORETICAL\"], epochs=100, verbose=0)\n",
    "loss, accuracy = model.evaluate(train_padded_docs, train_df[\"THEORETICAL\"], verbose=0)\n",
    "print('Accuracy: %f' % (accuracy*100))"
   ]
  },
  {
   "cell_type": "code",
   "execution_count": 102,
   "metadata": {},
   "outputs": [],
   "source": [
    "test_df[\"Categories_embed_theoretical\"] = model.predict(test_padded_docs)\n",
    "train_df[\"Categories_embed_theoretical\"] = model.predict(train_padded_docs)"
   ]
  },
  {
   "cell_type": "markdown",
   "metadata": {},
   "source": [
    "# embedded to ENGINEERING"
   ]
  },
  {
   "cell_type": "code",
   "execution_count": 103,
   "metadata": {},
   "outputs": [
    {
     "name": "stdout",
     "output_type": "stream",
     "text": [
      "Accuracy: 66.171429\n"
     ]
    }
   ],
   "source": [
    "model.compile(optimizer='adam', loss='binary_crossentropy', metrics=['accuracy'])\n",
    "model.fit(train_padded_docs, train_df[\"ENGINEERING\"], epochs=100, verbose=0)\n",
    "loss, accuracy = model.evaluate(train_padded_docs, train_df[\"ENGINEERING\"], verbose=0)\n",
    "print('Accuracy: %f' % (accuracy*100))"
   ]
  },
  {
   "cell_type": "code",
   "execution_count": 104,
   "metadata": {},
   "outputs": [],
   "source": [
    "test_df[\"Categories_embed_engineering\"] = model.predict(test_padded_docs)\n",
    "train_df[\"Categories_embed_engineering\"] = model.predict(train_padded_docs)"
   ]
  },
  {
   "cell_type": "markdown",
   "metadata": {},
   "source": [
    "## embedded to EMPIRICAL"
   ]
  },
  {
   "cell_type": "code",
   "execution_count": 105,
   "metadata": {},
   "outputs": [
    {
     "name": "stdout",
     "output_type": "stream",
     "text": [
      "Accuracy: 74.500000\n"
     ]
    }
   ],
   "source": [
    "model.compile(optimizer='adam', loss='binary_crossentropy', metrics=['accuracy'])\n",
    "model.fit(train_padded_docs, train_df[\"EMPIRICAL\"], epochs=100, verbose=0)\n",
    "loss, accuracy = model.evaluate(train_padded_docs, train_df[\"EMPIRICAL\"], verbose=0)\n",
    "print('Accuracy: %f' % (accuracy*100))"
   ]
  },
  {
   "cell_type": "code",
   "execution_count": 106,
   "metadata": {},
   "outputs": [],
   "source": [
    "test_df[\"Categories_embed_empirical\"] = model.predict(test_padded_docs)\n",
    "train_df[\"Categories_embed_empirical\"] = model.predict(train_padded_docs)"
   ]
  },
  {
   "cell_type": "markdown",
   "metadata": {},
   "source": [
    "## embedded to OTHERS"
   ]
  },
  {
   "cell_type": "code",
   "execution_count": 108,
   "metadata": {},
   "outputs": [
    {
     "name": "stdout",
     "output_type": "stream",
     "text": [
      "Accuracy: 96.728571\n"
     ]
    }
   ],
   "source": [
    "model.compile(optimizer='adam', loss='binary_crossentropy', metrics=['accuracy'])\n",
    "model.fit(train_padded_docs, train_df[\"OTHERS\"], epochs=100, verbose=0)\n",
    "loss, accuracy = model.evaluate(train_padded_docs, train_df[\"OTHERS\"], verbose=0)\n",
    "print('Accuracy: %f' % (accuracy*100))"
   ]
  },
  {
   "cell_type": "code",
   "execution_count": 109,
   "metadata": {},
   "outputs": [],
   "source": [
    "test_df[\"Categories_embed_others\"] = model.predict(test_padded_docs)\n",
    "train_df[\"Categories_embed_others\"] = model.predict(train_padded_docs)"
   ]
  },
  {
   "cell_type": "markdown",
   "metadata": {},
   "source": [
    "# simple training with embedded data"
   ]
  },
  {
   "cell_type": "code",
   "execution_count": 117,
   "metadata": {},
   "outputs": [],
   "source": [
    "trainning = train_df[[\"Categories_embed_theoretical\",\"Categories_embed_engineering\",\"Categories_embed_empirical\",\"Categories_embed_others\"]]\n",
    "testing = test_df[[\"Categories_embed_theoretical\",\"Categories_embed_engineering\",\"Categories_embed_empirical\",\"Categories_embed_others\"]]\n"
   ]
  },
  {
   "cell_type": "code",
   "execution_count": 110,
   "metadata": {},
   "outputs": [],
   "source": [
    "from sklearn.tree import DecisionTreeClassifier\n",
    "from sklearn.externals.six import StringIO   \n",
    "from sklearn.tree import export_graphviz\n",
    "\n",
    "import pydotplus"
   ]
  },
  {
   "cell_type": "code",
   "execution_count": 141,
   "metadata": {},
   "outputs": [
    {
     "data": {
      "text/plain": [
       "True"
      ]
     },
     "execution_count": 141,
     "metadata": {},
     "output_type": "execute_result"
    }
   ],
   "source": [
    "dtree=DecisionTreeClassifier(max_depth=3)\n",
    "dtree.fit(trainning, train_df[\"OTHERS\"])\n",
    "\n",
    "dot_data = StringIO()\n",
    "export_graphviz(dtree, \n",
    "                out_file=dot_data,  \n",
    "                filled=True, \n",
    "                feature_names=list(trainning),\n",
    "                class_names=['no','yes'],\n",
    "                special_characters=True)\n",
    "\n",
    "graph = pydotplus.graph_from_dot_data(dot_data.getvalue())  \n",
    "graph.write_pdf(\"tree.pdf\")"
   ]
  },
  {
   "cell_type": "code",
   "execution_count": 135,
   "metadata": {},
   "outputs": [],
   "source": [
    "output = pd.DataFrame()\n",
    "output = pd.read_csv('task2_sample_submission.csv', encoding = \"utf8\")"
   ]
  },
  {
   "cell_type": "code",
   "execution_count": 136,
   "metadata": {},
   "outputs": [],
   "source": [
    "output[\"THEORETICAL\"][:20000] = dtree.predict(testing)"
   ]
  },
  {
   "cell_type": "code",
   "execution_count": 138,
   "metadata": {},
   "outputs": [],
   "source": [
    "output[\"ENGINEERING\"][:20000] = dtree.predict(testing)"
   ]
  },
  {
   "cell_type": "code",
   "execution_count": 140,
   "metadata": {},
   "outputs": [],
   "source": [
    "output[\"EMPIRICAL\"][:20000] = dtree.predict(testing)"
   ]
  },
  {
   "cell_type": "code",
   "execution_count": 142,
   "metadata": {},
   "outputs": [],
   "source": [
    "output[\"OTHERS\"][:20000] = dtree.predict(testing)"
   ]
  },
  {
   "cell_type": "code",
   "execution_count": 144,
   "metadata": {},
   "outputs": [
    {
     "data": {
      "text/html": [
       "<div>\n",
       "<style scoped>\n",
       "    .dataframe tbody tr th:only-of-type {\n",
       "        vertical-align: middle;\n",
       "    }\n",
       "\n",
       "    .dataframe tbody tr th {\n",
       "        vertical-align: top;\n",
       "    }\n",
       "\n",
       "    .dataframe thead th {\n",
       "        text-align: right;\n",
       "    }\n",
       "</style>\n",
       "<table border=\"1\" class=\"dataframe\">\n",
       "  <thead>\n",
       "    <tr style=\"text-align: right;\">\n",
       "      <th></th>\n",
       "      <th>order_id</th>\n",
       "      <th>THEORETICAL</th>\n",
       "      <th>ENGINEERING</th>\n",
       "      <th>EMPIRICAL</th>\n",
       "      <th>OTHERS</th>\n",
       "    </tr>\n",
       "  </thead>\n",
       "  <tbody>\n",
       "    <tr>\n",
       "      <th>0</th>\n",
       "      <td>T00001</td>\n",
       "      <td>0</td>\n",
       "      <td>1</td>\n",
       "      <td>0</td>\n",
       "      <td>0</td>\n",
       "    </tr>\n",
       "    <tr>\n",
       "      <th>1</th>\n",
       "      <td>T00002</td>\n",
       "      <td>0</td>\n",
       "      <td>0</td>\n",
       "      <td>0</td>\n",
       "      <td>0</td>\n",
       "    </tr>\n",
       "    <tr>\n",
       "      <th>2</th>\n",
       "      <td>T00003</td>\n",
       "      <td>1</td>\n",
       "      <td>0</td>\n",
       "      <td>0</td>\n",
       "      <td>0</td>\n",
       "    </tr>\n",
       "    <tr>\n",
       "      <th>3</th>\n",
       "      <td>T00004</td>\n",
       "      <td>1</td>\n",
       "      <td>0</td>\n",
       "      <td>0</td>\n",
       "      <td>0</td>\n",
       "    </tr>\n",
       "    <tr>\n",
       "      <th>4</th>\n",
       "      <td>T00005</td>\n",
       "      <td>0</td>\n",
       "      <td>1</td>\n",
       "      <td>0</td>\n",
       "      <td>0</td>\n",
       "    </tr>\n",
       "  </tbody>\n",
       "</table>\n",
       "</div>"
      ],
      "text/plain": [
       "  order_id  THEORETICAL  ENGINEERING  EMPIRICAL  OTHERS\n",
       "0   T00001            0            1          0       0\n",
       "1   T00002            0            0          0       0\n",
       "2   T00003            1            0          0       0\n",
       "3   T00004            1            0          0       0\n",
       "4   T00005            0            1          0       0"
      ]
     },
     "execution_count": 144,
     "metadata": {},
     "output_type": "execute_result"
    }
   ],
   "source": [
    "output.head()"
   ]
  },
  {
   "cell_type": "code",
   "execution_count": 145,
   "metadata": {},
   "outputs": [],
   "source": [
    "output.to_csv(\"submit.csv\", index = False)"
   ]
  },
  {
   "cell_type": "code",
   "execution_count": null,
   "metadata": {},
   "outputs": [],
   "source": []
  }
 ],
 "metadata": {
  "kernelspec": {
   "display_name": "Python 3",
   "language": "python",
   "name": "python3"
  },
  "language_info": {
   "codemirror_mode": {
    "name": "ipython",
    "version": 3
   },
   "file_extension": ".py",
   "mimetype": "text/x-python",
   "name": "python",
   "nbconvert_exporter": "python",
   "pygments_lexer": "ipython3",
   "version": "3.7.1"
  }
 },
 "nbformat": 4,
 "nbformat_minor": 2
}
